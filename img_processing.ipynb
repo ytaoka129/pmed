{
 "cells": [
  {
   "attachments": {},
   "cell_type": "markdown",
   "metadata": {},
   "source": [
    "# Introduction to Image Processing for Prototyping\n",
    "\n",
    "[![Open In Colab](https://colab.research.google.com/assets/colab-badge.svg)](https://colab.research.google.com/github/ytaoka129/pmed/blob/main/img_processing.ipynb)\n"
   ]
  },
  {
   "attachments": {},
   "cell_type": "markdown",
   "metadata": {},
   "source": [
    "# Today's Goal\n",
    "- Get used to Colab\n",
    "- Get used to Python\n",
    "- Use libarries for image processing: OpenCV, OpenPose, (and Yolo)\n",
    "\n",
    "\n",
    "In this class, Colab will be used to reduce the time required to build a Python environment. For actual prototyping, we expect to prototype on a PC, Raspberry Pi, or an edge environment such as Jetson.\n",
    "この授業では、Pythonの環境構築の時間削減のため、Colabを利用します。実際のプロトタイピングでは、PCやラズベリーパイ、Jetsonのようなエッジ環境でプロトタイピングすることを想定しています。\n"
   ]
  },
  {
   "attachments": {},
   "cell_type": "markdown",
   "metadata": {
    "id": "pC69f-JXVOjF"
   },
   "source": [
    "<h1>What is Colab Colab とは</h1>\n",
    "\n",
    "Colab's <a href=\"https://colab.research.google.com/notebooks/welcome.ipynb?hl=en#scrollTo=5fCEDCU_qrC0\n",
    "Some excerpts from \">Official Instructions</a>.\n",
    "\n",
    "\n",
    "Colab (formally known as \"Colaboratory\") lets you write and run Python in your browser. The following functions are available.\n",
    "- No need to build environment\n",
    "- Free access to GPU\n",
    "- easy sharing\n",
    "\n",
    "From <strong>student</strong> to <strong>data scientist</strong> to <strong>AI researcher</strong>, Colab streamlines your work. For more information, watch <a href=\"https://www.youtube.com/watch?v=inN8seMm7UI\">Introductory video with Colab</a>.\n",
    "\n",
    "Colabの<a href=\"https://colab.research.google.com/notebooks/welcome.ipynb?hl=ja#scrollTo=5fCEDCU_qrC0\n",
    "\"> 公式インストラクション</a>から一部抜粋しています．\n",
    "\n",
    "\n",
    "Colab（正式名称「Colaboratory」）では、ブラウザ上で Python を記述、実行できます。以下の機能を使用できます。 \n",
    "- 環境構築が不要\n",
    "- GPU への無料アクセス\n",
    "- 簡単に共有\n",
    "\n",
    "Colab は、<strong>学生</strong>から<strong>データ サイエンティスト</strong>、<strong>AI リサーチャー</strong>まで、皆さんの作業を効率化します。詳しくは、<a href=\"https://www.youtube.com/watch?v=inN8seMm7UI\">Colab の紹介動画</a>をご覧ください。"
   ]
  },
  {
   "attachments": {},
   "cell_type": "markdown",
   "metadata": {
    "id": "GJBs_flRovLc"
   },
   "source": [
    "## <strong>Introduction  はじめに</strong>\n",
    "\n",
    "The documentation you're looking at isn't a static web page, it's a <strong>Colab notebook</strong>, an interactive environment where you can write and run code.\n",
    "\n",
    "For example, the following <strong>code cell</strong> contains a short Python script that calculates a value, stores it in a variable, and prints the result.\n",
    "\n",
    "## <strong></strong>\n",
    "\n",
    "ご覧になっているこのドキュメントは静的なウェブページではなく、<strong>Colab ノートブック</strong>という、コードを記述して実行できるインタラクティブな環境です。\n",
    "\n",
    "たとえば次の<strong>コードセル</strong>には、値を計算して変数に保存し、結果を出力する短い Python スクリプトが記述されています。"
   ]
  },
  {
   "cell_type": "code",
   "execution_count": null,
   "metadata": {
    "id": "ZJVFvlP9UJCy"
   },
   "outputs": [],
   "source": [
    "seconds_in_a_day = 24 * 60 * 60\n",
    "seconds_in_a_day"
   ]
  },
  {
   "attachments": {},
   "cell_type": "markdown",
   "metadata": {
    "id": "PsddLUAZV6Mp"
   },
   "source": [
    "上記のセルのコードを実行するには、セルをクリックして選択し、コードの左側にある実行ボタンをクリックするか、キーボード ショートカット「command+return」または「Ctrl+Enter」を使用します。コードはセルをクリックしてそのまま編集できます。\n",
    "\n",
    "1 つのセルで定義した変数は、後で他のセルで使用できます。\n",
    "To run the code in the above cell, click the cell to select it and click the Run button to the left of the code or use the keyboard shortcut \"command+return\" or \"Ctrl+Enter\". You can edit the code by clicking the cell.\n",
    "\n",
    "Variables defined in one cell can later be used in other cells."
   ]
  },
  {
   "cell_type": "code",
   "execution_count": null,
   "metadata": {
    "id": "-l7ynNKzV8vv"
   },
   "outputs": [],
   "source": [
    "seconds_in_a_week = 7 * seconds_in_a_day\n",
    "seconds_in_a_week"
   ]
  },
  {
   "attachments": {},
   "cell_type": "markdown",
   "metadata": {
    "id": "tupGqfGkV9N4"
   },
   "source": [
    "Colab ノートブックを使用すると、実行可能コードとリッチテキスト（画像、HTML、LaTeX なども可）を 1 つのドキュメントで記述できます。ご自分の Colab ノートブックを作成すると、Google ドライブ アカウントに保存されます。Colab ノートブックは、同僚や友人と簡単に共有し、コメントの記入や編集をしてもらうことができます。詳細については Colab の概要をご覧ください。新しい Colab ノートブックを作成するには、上にある [ファイル] メニューを使用するか、こちらをクリックします。\n",
    "\n",
    "Colab ノートブックは、Colab がホストする Jupyter ノートブックです。Jupyter プロジェクトの詳細については、jupyter.org をご覧ください。\n",
    "\n",
    "Colab notebooks let you write executable code and rich text (even images, HTML, LaTeX, etc.) in one document. Create your own Colab notebook and it will be saved to your Google Drive account. Colab notebooks can be easily shared with colleagues and friends for commenting and editing. See the Colab overview for more information. To create a new Colab notebook, use the File menu above or click here.\n",
    "\n",
    "Colab notebooks are Jupyter notebooks hosted by Colab. For more information about the Jupyter project, visit jupyter.org."
   ]
  },
  {
   "attachments": {},
   "cell_type": "markdown",
   "metadata": {
    "id": "MsGOX4HNWCTH"
   },
   "source": [
    "# Pythonを使ってみよう / Use python\n",
    "\n",
    "ドキュメントを基に作成しています. This python tutorial is based on the following website.\n",
    "https://docs.python.org/ja/3/tutorial/introduction.html\n",
    "\n",
    "## Pythonのコメントの入れ方 /  How to add comments in Python\n",
    ";\n",
    "Python におけるコメント文は、ハッシュ文字 # で始まり、物理行の終わりまで続きます。コメントは行の先頭にも、空白やコードの後にも書くことができますが、文字列リテラルの内部に置くことはできません。文字列リテラル中のハッシュ文字はただのハッシュ文字です。コメントはコードを明快にするためのものであり、Pythonはコメントを解釈しません。なので、サンプルコードを実際に入力して試して見るときは、コメントを省いても大丈夫です。\n",
    "\n",
    "まずは実行してみましょう.comleteが表示されたら，実行できています．\n",
    "\n",
    "\n",
    "Comments in Python begin with the hash character # and continue to the end of the physical line. Comments can appear at the beginning of a line, after whitespace or code, but they cannot appear inside string literals. A hash character in a string literal is just a hash character. Comments are for code clarity and are not interpreted by Python. So, when you actually enter the sample code and try it out, you can omit the comments.\n",
    "\n",
    "First, let's run it. If complete is displayed, it can be executed."
   ]
  },
  {
   "cell_type": "code",
   "execution_count": null,
   "metadata": {
    "colab": {
     "base_uri": "https://localhost:8080/"
    },
    "executionInfo": {
     "elapsed": 4,
     "status": "ok",
     "timestamp": 1655902726574,
     "user": {
      "displayName": "Yuki Taoka",
      "userId": "12869930129614921083"
     },
     "user_tz": -540
    },
    "id": "KMoMwuf4exTS",
    "outputId": "8f76e17f-c743-4254-889a-af338a399e85"
   },
   "outputs": [],
   "source": [
    "# this is the first comment\n",
    "spam = 1  # and this is the second comment\n",
    "          # ... and now a third!\n",
    "text = \"# This is not a comment because it's inside quotes.\"\n",
    "print(\"complete\")"
   ]
  },
  {
   "attachments": {},
   "cell_type": "markdown",
   "metadata": {
    "id": "VUqk6faTfn-y"
   },
   "source": [
    "## 途中経過を表示しよう Let's show progress\n",
    "print(\"出力したい文字列\")　の形式で「出力したい文字列」の部分に，出力したい文字や変数を入れます．printごとに自動的に改行されます\n",
    "\n",
    "Enter the characters and variables you want to output in the \"character string you want to output\" part in the format print(\"character string you want to output\"). automatically newline after each print"
   ]
  },
  {
   "cell_type": "code",
   "execution_count": null,
   "metadata": {
    "id": "8nCmOfo6fnb5"
   },
   "outputs": [],
   "source": [
    "print(\"Hello world!\")     #Hello world!が表示されます\n",
    "print(spam)             #spam変数が表示されます\n",
    "print(text)              #test変数が表示されます"
   ]
  },
  {
   "attachments": {},
   "cell_type": "markdown",
   "metadata": {
    "id": "Dd1NUT1ngQUb"
   },
   "source": [
    "変数と文字列を表示したい場合は，%を用いて，変数部分を置き換えます．\n",
    "\n",
    "*   print('任意の文字列%s任意の文字列') % 変数 #変数の中身が文字列のとき\n",
    "*   print('任意の文字列%d任意の文字列') % 変数 #変数の中身が整数のとき\n",
    "\n",
    "If you want to display variables and strings, use % to replace the variable part.\n",
    "\n",
    "* print('arbitrary string %sarbitrary string') % variable #When the content of the variable is a string\n",
    "* print('arbitrary string %darbitrary string') % variable #when the content of the variable is an integer"
   ]
  },
  {
   "cell_type": "code",
   "execution_count": null,
   "metadata": {
    "id": "jCkniJfmgPgU"
   },
   "outputs": [],
   "source": [
    "print(\"spam:%d\" % spam) \n",
    "print(\"text:%s\" % text)"
   ]
  },
  {
   "attachments": {},
   "cell_type": "markdown",
   "metadata": {
    "id": "Oxp20RB2iu56"
   },
   "source": [
    "## Pythonを電卓として使う Using Python as a calculator\n",
    "簡単な電卓のように動作します: 式を入力すると、その結果が表示されます。式の文法は素直なものです: 演算子 +, -, *, / は (Pascal や C といった) 他のほとんどの言語と同じように動作します; 丸括弧 (()) をグループ化に使うこともできます。いくつか実施してみましょう．\n",
    "\n",
    "It works like a simple calculator: enter an expression and see the result. The expression syntax is straightforward: the operators +, -, *, / work as they do in most other languages (such as Pascal and C); use parentheses (()) for grouping You can also Let's do some."
   ]
  },
  {
   "cell_type": "code",
   "execution_count": null,
   "metadata": {
    "colab": {
     "base_uri": "https://localhost:8080/"
    },
    "executionInfo": {
     "elapsed": 225,
     "status": "ok",
     "timestamp": 1655903461541,
     "user": {
      "displayName": "Yuki Taoka",
      "userId": "12869930129614921083"
     },
     "user_tz": -540
    },
    "id": "2IImLIXeiZbA",
    "outputId": "8159dbe9-961d-40c1-db02-492e57758b53"
   },
   "outputs": [
    {
     "data": {
      "text/plain": [
       "4"
      ]
     },
     "execution_count": 11,
     "metadata": {},
     "output_type": "execute_result"
    }
   ],
   "source": [
    "2 + 2"
   ]
  },
  {
   "cell_type": "code",
   "execution_count": null,
   "metadata": {
    "id": "o48bIUj7ibYc"
   },
   "outputs": [],
   "source": [
    "50 - 5*6"
   ]
  },
  {
   "cell_type": "code",
   "execution_count": null,
   "metadata": {
    "id": "WFjtPaoKidKT"
   },
   "outputs": [],
   "source": [
    "(50 - 5*6) / 4"
   ]
  },
  {
   "cell_type": "code",
   "execution_count": null,
   "metadata": {
    "id": "LCBOVNSZigDz"
   },
   "outputs": [],
   "source": [
    "8 / 5  # division always returns a floating point number"
   ]
  },
  {
   "attachments": {},
   "cell_type": "markdown",
   "metadata": {
    "id": "o-B1_PK4jfop"
   },
   "source": [
    "等号 (=) は変数に値を代入するときに使います。代入を行っても、結果は出力されず、次の入力プロンプトが表示されます。\n",
    "変数が \"定義\" されていない (つまり値が代入されていない) 場合、その変数を使おうとするとエラーが発生します:\n",
    "\n",
    "The equal sign (=) is used to assign values to variables. The assignment does not print any results, but instead prompts for the following input:\n",
    "If a variable is not \"defined\" (i.e. not assigned a value), an error will occur if you try to use it:"
   ]
  },
  {
   "cell_type": "code",
   "execution_count": null,
   "metadata": {
    "colab": {
     "base_uri": "https://localhost:8080/"
    },
    "executionInfo": {
     "elapsed": 435,
     "status": "ok",
     "timestamp": 1655904146848,
     "user": {
      "displayName": "Yuki Taoka",
      "userId": "12869930129614921083"
     },
     "user_tz": -540
    },
    "id": "0dz8tj_cjjr6",
    "outputId": "9384014c-c81b-4c3c-a2f5-4d28359f2148"
   },
   "outputs": [
    {
     "data": {
      "text/plain": [
       "900"
      ]
     },
     "execution_count": 27,
     "metadata": {},
     "output_type": "execute_result"
    }
   ],
   "source": [
    "width = 20\n",
    "height = 5 * 9\n",
    "width * height"
   ]
  },
  {
   "cell_type": "code",
   "execution_count": null,
   "metadata": {
    "colab": {
     "base_uri": "https://localhost:8080/"
    },
    "executionInfo": {
     "elapsed": 226,
     "status": "ok",
     "timestamp": 1655904149783,
     "user": {
      "displayName": "Yuki Taoka",
      "userId": "12869930129614921083"
     },
     "user_tz": -540
    },
    "id": "rqGA1PORj68K",
    "outputId": "316841b1-de04-40f1-c844-38d453217016"
   },
   "outputs": [
    {
     "data": {
      "text/plain": [
       "9000"
      ]
     },
     "execution_count": 28,
     "metadata": {},
     "output_type": "execute_result"
    }
   ],
   "source": [
    "depth * width * height  #depthが定義されていないので，エラーが出ます."
   ]
  },
  {
   "attachments": {},
   "cell_type": "markdown",
   "metadata": {
    "id": "Yj3WZsSvkQTl"
   },
   "source": [
    "エラー文には，コードを修正するためのヒントがあります．（英語ですが）きちんと文章を読みましょう．\n",
    "\n",
    "The error statement gives hints for correcting the code. (in English) Let's read the sentence properly."
   ]
  },
  {
   "cell_type": "code",
   "execution_count": null,
   "metadata": {
    "colab": {
     "base_uri": "https://localhost:8080/"
    },
    "executionInfo": {
     "elapsed": 226,
     "status": "ok",
     "timestamp": 1655904155575,
     "user": {
      "displayName": "Yuki Taoka",
      "userId": "12869930129614921083"
     },
     "user_tz": -540
    },
    "id": "R0bjcV9nkEAC",
    "outputId": "6131ad65-b27e-4df9-bef3-8801b690afb6"
   },
   "outputs": [
    {
     "data": {
      "text/plain": [
       "9000"
      ]
     },
     "execution_count": 29,
     "metadata": {},
     "output_type": "execute_result"
    }
   ],
   "source": [
    "depth = 10 # depthを定義すると計算できるようになります．\n",
    "depth * width * height"
   ]
  },
  {
   "attachments": {},
   "cell_type": "markdown",
   "metadata": {
    "id": "ykI3IfqQqKH_"
   },
   "source": [
    "## リスト(list) を使う  Using a list\n",
    "Pythonは多くの 複合 (compound) データ型を備えており、複数の値をまとめるのに使われます。最も汎用性が高いのは リスト (list) で、コンマ区切りの値 (要素) の並びを角括弧で囲んだものとして書き表されます。リストは異なる型の要素を含むこともありますが、通常は同じ型の要素のみを持ちます。\n",
    "\n",
    "Python has many compound data types, which are used to group multiple values. The most general is a list, which is written as a comma-separated list of values (elements) enclosed in square brackets. A list may contain elements of different types, but usually only elements of the same type."
   ]
  },
  {
   "cell_type": "code",
   "execution_count": null,
   "metadata": {
    "colab": {
     "base_uri": "https://localhost:8080/"
    },
    "executionInfo": {
     "elapsed": 3,
     "status": "ok",
     "timestamp": 1655905602946,
     "user": {
      "displayName": "Yuki Taoka",
      "userId": "12869930129614921083"
     },
     "user_tz": -540
    },
    "id": "vrXtaVUnqWQV",
    "outputId": "320c28f0-7f36-401d-92fc-5a0b04e2b531"
   },
   "outputs": [
    {
     "data": {
      "text/plain": [
       "[1, 4, 9, 16, 25]"
      ]
     },
     "execution_count": 42,
     "metadata": {},
     "output_type": "execute_result"
    }
   ],
   "source": [
    "squares = [1, 4, 9, 16, 25]\n",
    "squares"
   ]
  },
  {
   "attachments": {},
   "cell_type": "markdown",
   "metadata": {
    "id": "cBnaMzZ0q8Hz"
   },
   "source": [
    "インデックス (添字) を指定して文字を取得できます。最初の文字のインデックスは 0 になります。インデックスには、負の値も指定できまます。この場合、右から数えていきます. -0 は 0 と区別できないので、負のインデックスは -1 から始まります。\n",
    "You can get a character by specifying its index (subscript). The index of the first character is 0. Indexes can also be negative. In this case, counting from the right, -0 is indistinguishable from 0, so negative indices start at -1."
   ]
  },
  {
   "cell_type": "code",
   "execution_count": null,
   "metadata": {
    "id": "Z9XMjw-pqp1Q"
   },
   "outputs": [],
   "source": [
    "squares[0]  # indexing returns the item"
   ]
  },
  {
   "cell_type": "code",
   "execution_count": null,
   "metadata": {
    "id": "xjFAuHeGqqa9"
   },
   "outputs": [],
   "source": [
    "squares[-1]"
   ]
  },
  {
   "cell_type": "code",
   "execution_count": null,
   "metadata": {
    "colab": {
     "base_uri": "https://localhost:8080/"
    },
    "executionInfo": {
     "elapsed": 624,
     "status": "ok",
     "timestamp": 1655906051214,
     "user": {
      "displayName": "Yuki Taoka",
      "userId": "12869930129614921083"
     },
     "user_tz": -540
    },
    "id": "mY1AavIJqr6H",
    "outputId": "13f0ccee-ceb9-430a-c0fe-858bfaf77c9a"
   },
   "outputs": [
    {
     "data": {
      "text/plain": [
       "[9, 16, 25]"
      ]
     },
     "execution_count": 43,
     "metadata": {},
     "output_type": "execute_result"
    }
   ],
   "source": [
    "squares[-3:]  # slicing returns a new list"
   ]
  },
  {
   "attachments": {},
   "cell_type": "markdown",
   "metadata": {
    "id": "1EbylhpysuWA"
   },
   "source": [
    "append() を使って、リストの末尾に新しい要素を追加できます (このメソッドについては後で詳しく見ていきます): \n",
    "You can append new elements to the end of a list using append() (more on this method later):\n"
   ]
  },
  {
   "cell_type": "code",
   "execution_count": null,
   "metadata": {
    "id": "0fltvJJfsv_t"
   },
   "outputs": [],
   "source": [
    "cubes = []\n",
    "cubes.append(216)  # add the cube of 6\n",
    "cubes.append(7 ** 3)  # and the cube of 7\n",
    "cubes"
   ]
  },
  {
   "attachments": {},
   "cell_type": "markdown",
   "metadata": {
    "id": "YSjq5ugLtWwn"
   },
   "source": [
    "組込み関数 len() はリストにも使えます: The built-in function len() also works with lists:"
   ]
  },
  {
   "cell_type": "code",
   "execution_count": null,
   "metadata": {
    "colab": {
     "base_uri": "https://localhost:8080/"
    },
    "executionInfo": {
     "elapsed": 238,
     "status": "ok",
     "timestamp": 1655906315293,
     "user": {
      "displayName": "Yuki Taoka",
      "userId": "12869930129614921083"
     },
     "user_tz": -540
    },
    "id": "bNzHomW4tNYB",
    "outputId": "58608b37-1067-4ce2-e1a1-c866f2e53630"
   },
   "outputs": [
    {
     "data": {
      "text/plain": [
       "0"
      ]
     },
     "execution_count": 51,
     "metadata": {},
     "output_type": "execute_result"
    }
   ],
   "source": [
    "letters = ['a', 'b', 'c', 'd']\n",
    "len(letters)"
   ]
  },
  {
   "attachments": {},
   "cell_type": "markdown",
   "metadata": {
    "id": "EEw6t49jtafU"
   },
   "source": [
    "リストを入れ子 (ほかのリストを含むリストを造る) にできます。例えば: You can nest lists (create lists that contain other lists). for example:"
   ]
  },
  {
   "cell_type": "code",
   "execution_count": null,
   "metadata": {
    "id": "zMFkuCf9tbBR"
   },
   "outputs": [],
   "source": [
    "a = ['a', 'b', 'c']\n",
    "n = [1, 2, 3]\n",
    "x = [a, n]\n",
    "x"
   ]
  },
  {
   "cell_type": "code",
   "execution_count": null,
   "metadata": {
    "id": "qd24zqI_tgaQ"
   },
   "outputs": [],
   "source": [
    "x[0]"
   ]
  },
  {
   "cell_type": "code",
   "execution_count": null,
   "metadata": {
    "id": "nNW-3ZsOtiQI"
   },
   "outputs": [],
   "source": [
    "x[0][1]"
   ]
  },
  {
   "attachments": {},
   "cell_type": "markdown",
   "metadata": {
    "id": "RLvMJGSStsNI"
   },
   "source": [
    "## if 文  if statements\n",
    "最もおなじみの文型は if 文です。ゼロ個以上の elif 部を使うことができ、 else 部を付けることもできます。キーワード 'elif' は 'else if' を短くしたものです。一連の if ... elif ... elif ... は、他の言語における switch 文や case 文の代用となります。\n",
    "\n",
    "The most familiar statement type is the if statement. It can have zero or more elif parts, optionally with an else part. The keyword 'elif' is shorthand for 'else if'. A sequence of if ... elif ... elif ... is a substitute for switch and case statements in other languages."
   ]
  },
  {
   "cell_type": "code",
   "execution_count": null,
   "metadata": {
    "id": "hgWEIUHntwRX"
   },
   "outputs": [],
   "source": [
    "x = int(input(\"Please enter an integer: \"))\n",
    "\n",
    "if x < 0:\n",
    "    x = 0\n",
    "    print('Negative changed to zero')\n",
    "elif x == 0:\n",
    "    print('Zero')\n",
    "elif x == 1:\n",
    "    print('Single')\n",
    "else:\n",
    "    print('More')"
   ]
  },
  {
   "attachments": {},
   "cell_type": "markdown",
   "metadata": {},
   "source": [
    "【演習 / Exercises】　xが0以上の時に， \"Hello World!\" が表示されるようにしましょう\n",
    "[Practice] Display \"Hello World!\" when x is 0 or more"
   ]
  },
  {
   "cell_type": "code",
   "execution_count": null,
   "metadata": {},
   "outputs": [],
   "source": [
    "# Your code goes here."
   ]
  },
  {
   "attachments": {},
   "cell_type": "markdown",
   "metadata": {
    "id": "ZsNhpd-Gt0Dw"
   },
   "source": [
    "## for 文for statement\n",
    "Python の for 文は、C 言語のfor 文とは違います。 Python の for 文は、任意のリストまたは文字列にわたって反復を行います。反復の順番はシーケンス中に要素が現れる順番です。例えば:\n",
    "\n",
    "The Python for statement is different from the C language for statement. Python's for statement iterates over any list or string. The iteration order is the order in which the elements appear in the sequence. for example:"
   ]
  },
  {
   "cell_type": "code",
   "execution_count": 1,
   "metadata": {
    "id": "7AZsZc74t7QW"
   },
   "outputs": [
    {
     "name": "stdout",
     "output_type": "stream",
     "text": [
      "cat 3\n",
      "window 6\n",
      "defenestrate 12\n"
     ]
    }
   ],
   "source": [
    "# Measure some strings:\n",
    "words = ['cat', 'window', 'defenestrate']\n",
    "for w in words:\n",
    "    print(w, len(w))"
   ]
  },
  {
   "attachments": {},
   "cell_type": "markdown",
   "metadata": {
    "id": "zPjPYhHfvDC6"
   },
   "source": [
    "## while 文 while statement\n",
    "while は、条件 (ここでは `` a < 10``) が真である限り実行を繰り返し (ループし) ます。条件式には、文字列値やリスト値なども使えます。サンプルで使われている条件テストはシンプルな例です。標準的な比較演算子は C 言語と同様です: < (より小さい)、 > (より大きい)、 == (等しい)、 <= (より小さいか等しい)、 >= (より大きいか等しい)、および != (等しくない)、です。\n",
    "\n",
    "\n",
    "The while loops as long as the condition (here `` a < 10 ``) is true. String values and list values can also be used in conditional expressions. The conditional test used in the sample is a simple example. The standard comparison operators are the same as in C: < (less than), > (greater than), == (equal), <= (less than or equal), >= (greater than or equal), and != (not equal to)."
   ]
  },
  {
   "cell_type": "code",
   "execution_count": 2,
   "metadata": {
    "id": "-NeFdurcvb_d"
   },
   "outputs": [
    {
     "name": "stdout",
     "output_type": "stream",
     "text": [
      "0\n",
      "1\n",
      "1\n",
      "2\n",
      "3\n",
      "5\n",
      "8\n"
     ]
    }
   ],
   "source": [
    "# Fibonacci series:\n",
    "# the sum of two elements defines the next\n",
    "a, b = 0, 1\n",
    "while a < 10:\n",
    "    print(a)\n",
    "    a, b = b, a+b"
   ]
  },
  {
   "cell_type": "code",
   "execution_count": 4,
   "metadata": {
    "id": "Vyygw1b7vguc"
   },
   "outputs": [
    {
     "name": "stdout",
     "output_type": "stream",
     "text": [
      "0,1,1,2,3,5,8,13,21,34,55,89,144,233,377,610,987,"
     ]
    }
   ],
   "source": [
    "a, b = 0, 1\n",
    "while a < 1000:\n",
    "    print(a, end=',')\n",
    "    a, b = b, a+b"
   ]
  },
  {
   "attachments": {},
   "cell_type": "markdown",
   "metadata": {},
   "source": [
    "【演習 / Exercises】上のコードを改変して，aが3000以下の間コードが実行されるようにしてください． \n",
    "Modify the above code so that it runs while a is 3000 or less.\n"
   ]
  },
  {
   "cell_type": "code",
   "execution_count": null,
   "metadata": {},
   "outputs": [],
   "source": [
    "# Your code goes here"
   ]
  },
  {
   "attachments": {},
   "cell_type": "markdown",
   "metadata": {},
   "source": [
    "# 画像処理について / Img Processing"
   ]
  },
  {
   "attachments": {},
   "cell_type": "markdown",
   "metadata": {},
   "source": [
    "[1] Source of Pictures: https://imagingsolution.blog.fc2.com/blog-entry-180.html"
   ]
  },
  {
   "cell_type": "code",
   "execution_count": null,
   "metadata": {},
   "outputs": [],
   "source": [
    "# Import Sample Pictures\n",
    "!git clone https://github.com/ytaoka129/pmed"
   ]
  },
  {
   "attachments": {},
   "cell_type": "markdown",
   "metadata": {},
   "source": [
    "## Open CV"
   ]
  },
  {
   "attachments": {},
   "cell_type": "markdown",
   "metadata": {},
   "source": [
    "OpenCV (Open Source Computer Vision Library: http://opencv.org) is an open-source BSD-licensed library that includes several hundreds of computer vision algorithms. [1]\n",
    "\n",
    "\n",
    "[1]https://docs.opencv.org/3.4/d1/dfb/intro.html\n",
    "[2]https://github.com/minido/Gasyori100knock-1"
   ]
  },
  {
   "attachments": {},
   "cell_type": "markdown",
   "metadata": {},
   "source": [
    "### Showing a histogram and making it binary"
   ]
  },
  {
   "cell_type": "code",
   "execution_count": null,
   "metadata": {},
   "outputs": [],
   "source": [
    "import cv2\n",
    "import matplotlib.pyplot as plt\n",
    "from google.colab.patches import cv2_imshow # use imshow in Colab. You do not need this in a edge envirionment\n",
    "\n",
    "# load an image\n",
    "img = cv2.imread('/content/pmed/img/Lenna.bmp',cv2.IMREAD_UNCHANGED)\n",
    "cv2_imshow(img)\n",
    "\n",
    "\n",
    "# get histogram\n",
    "# [0] for grayscae image\n",
    "# Specify [0], [1], [2] corresponding to B, G, R for color image\n",
    "img_hist_cv_b = cv2.calcHist([img], channels=[0],mask=None,histSize=[256],ranges=[0,256])\n",
    "img_hist_cv_g = cv2.calcHist([img], [1], None, [256], [0, 256])\n",
    "img_hist_cv_r = cv2.calcHist([img], [2], None, [256], [0, 256])\n",
    "\n",
    "# show histogram\n",
    "plt.plot(img_hist_cv_b)\n",
    "plt.plot(img_hist_cv_g)\n",
    "plt.plot(img_hist_cv_r)\n",
    "plt.show()\n",
    "# https://qiita.com/tokkuri/items/79019d9a5bbeba79179f"
   ]
  },
  {
   "cell_type": "code",
   "execution_count": null,
   "metadata": {},
   "outputs": [],
   "source": [
    "threshold = 70\n",
    "ret, binary = cv2.threshold(img, threshold, 255, cv2.THRESH_BINARY)\n",
    "cv2_imshow(binary)"
   ]
  },
  {
   "attachments": {},
   "cell_type": "markdown",
   "metadata": {},
   "source": [
    "【演習 / Exercises】\n",
    "\n",
    "There are several types of thresholdType. Explore other types from the Internet and test another types.\n",
    "\n",
    "thresholdTypeにはいろいろとあります。他のTypeをインターネットから検索し、試してみてください。"
   ]
  },
  {
   "cell_type": "code",
   "execution_count": null,
   "metadata": {},
   "outputs": [],
   "source": [
    "# Your code goes here"
   ]
  },
  {
   "attachments": {},
   "cell_type": "markdown",
   "metadata": {},
   "source": [
    "#### グレースケール画像に変換しよう。　Convert the image to a grayscale image"
   ]
  },
  {
   "cell_type": "code",
   "execution_count": null,
   "metadata": {},
   "outputs": [],
   "source": [
    "img_gray = cv2.cvtColor(img, cv2.COLOR_BGR2GRAY)\n",
    "cv2_imshow(img_gray)"
   ]
  },
  {
   "attachments": {},
   "cell_type": "markdown",
   "metadata": {},
   "source": [
    "【演習 / Exercises】\n",
    "\n",
    "Create a histogram and make a binary image\n",
    "ヒストグラムを作成し、バイナリー画像を作成しましょう"
   ]
  },
  {
   "cell_type": "code",
   "execution_count": null,
   "metadata": {},
   "outputs": [],
   "source": [
    "# Your code goes here"
   ]
  },
  {
   "attachments": {},
   "cell_type": "markdown",
   "metadata": {},
   "source": [
    "### Face Recognition"
   ]
  },
  {
   "cell_type": "code",
   "execution_count": null,
   "metadata": {},
   "outputs": [],
   "source": [
    "\n",
    "import cv2\n",
    "from google.colab.patches import cv2_imshow\n",
    "\n",
    "# Load an image\n",
    "img = cv2.imread('/content/pmed/img/Lenna.bmp',cv2.IMREAD_UNCHANGED)\n",
    "\n",
    "# load cascade classifier which has been alrady trained.\n",
    "face_cascade = cv2.CascadeClassifier('/content/pmed/haarcascades/haarcascade_frontalface_alt.xml')\n",
    "\n",
    "# face recognition\n",
    "faces = face_cascade.detectMultiScale(img)\n",
    "\n",
    "# create a bounding box\n",
    "for (x,y,w,h) in faces:\n",
    "  face = cv2.rectangle(img,(x,y),(x+w,y+h),(1,1,1),2)\n",
    "\n",
    "# show image\n",
    "cv2_imshow(face)\n",
    "\n",
    "# https://github.com/opencv/opencv/tree/master/data/haarcascades"
   ]
  },
  {
   "attachments": {},
   "cell_type": "markdown",
   "metadata": {},
   "source": [
    "【演習 / Exercises】顔を切り出して、グレースケールに変換しましょう。Cut out the face and convert it to grayscale.\n"
   ]
  },
  {
   "cell_type": "code",
   "execution_count": null,
   "metadata": {},
   "outputs": [],
   "source": [
    "# Your code goes here"
   ]
  },
  {
   "attachments": {},
   "cell_type": "markdown",
   "metadata": {},
   "source": [
    "【演習 / Exercises】 目を抽出するカスケード分類機を用いて、目だけ抽出しましょう　Let's extract only the eyes using the cascade classifier that extracts the eyes"
   ]
  },
  {
   "cell_type": "code",
   "execution_count": null,
   "metadata": {},
   "outputs": [],
   "source": [
    "# Your code goes here."
   ]
  },
  {
   "attachments": {},
   "cell_type": "markdown",
   "metadata": {},
   "source": [
    "### Background subtraction"
   ]
  },
  {
   "cell_type": "code",
   "execution_count": null,
   "metadata": {},
   "outputs": [],
   "source": [
    "import cv2\n",
    "import numpy as np\n",
    "from google.colab.patches import cv2_imshow\n",
    "\n",
    "img_src = cv2.imread('/content/pmed/img/img_t1.jpg', cv2.IMREAD_GRAYSCALE)\n",
    "img_bkg = cv2.imread('/content/pmed/img/img_bkg.jpg', cv2.IMREAD_GRAYSCALE)\n",
    "\n",
    "#img_src = cv2.imread('/content/pmed/img/img_t1.jpg', cv2.IMREAD_UNCHANGED)\n",
    "#img_bkg = cv2.imread('/content/pmed/img/img_bkg.jpg', cv2.IMREAD_UNCHANGED)\n",
    "\n",
    "\n",
    "img_df = cv2.absdiff(img_src, img_bkg)\n",
    "img_m = cv2.threshold(img_df, 50, 255, cv2.THRESH_BINARY)[1]\n",
    "\n",
    "cv2_imshow(img_src)\n",
    "cv2_imshow(img_bkg)\n",
    "cv2_imshow(img_df)\n",
    "cv2_imshow(img_m)"
   ]
  },
  {
   "cell_type": "code",
   "execution_count": null,
   "metadata": {},
   "outputs": [],
   "source": [
    "op = np.ones((3,3), np.uint8)\n",
    "img_md = cv2.dilate(img_m, op, iterations = 4)\n",
    "img_msk = cv2.erode(img_md, op, iterations = 4)\n",
    "\n",
    "img_dst = cv2.bitwise_and(img_src, img_msk)\n",
    "\n",
    "\n",
    "cv2_imshow(img_dst)"
   ]
  },
  {
   "attachments": {},
   "cell_type": "markdown",
   "metadata": {},
   "source": [
    "【演習 / Exercises】別の画像を用いてみましょう。3枚以上の画像をつかてみてもいいかも。Let's use other images. You may want to use more than two pictures."
   ]
  },
  {
   "cell_type": "code",
   "execution_count": null,
   "metadata": {},
   "outputs": [],
   "source": [
    "# Your code goes here"
   ]
  },
  {
   "attachments": {},
   "cell_type": "markdown",
   "metadata": {},
   "source": [
    "### Reference\n",
    "[1]http://opencv.jp/cookbook/index.html (Japanese)\n",
    "\n"
   ]
  },
  {
   "attachments": {},
   "cell_type": "markdown",
   "metadata": {},
   "source": [
    "## OpenPose\n",
    "Openpose enables pose recognition with RGB camera. As it takes time for installing, we skip it today.\n",
    "Example: https://www.youtube.com/watch?v=ujz19uSKnJQ&t=1s"
   ]
  },
  {
   "cell_type": "code",
   "execution_count": null,
   "metadata": {},
   "outputs": [],
   "source": [
    "# If you wish, you can work on Openpose here."
   ]
  },
  {
   "attachments": {},
   "cell_type": "markdown",
   "metadata": {},
   "source": [
    "### Reference"
   ]
  },
  {
   "attachments": {},
   "cell_type": "markdown",
   "metadata": {},
   "source": [
    "## Yolo\n",
    "\n",
    "YOLOv5 🚀 is the world's most loved vision AI, representing Ultralytics open-source research into future vision AI methods, incorporating lessons learned and best practices evolved over thousands of hours of research and development. (Quote from github)\n",
    "\n",
    "\n"
   ]
  },
  {
   "cell_type": "code",
   "execution_count": null,
   "metadata": {},
   "outputs": [],
   "source": [
    "# Close Yolo v5 from github\n",
    "!git clone https://github.com/ultralytics/yolov5\n",
    "\n",
    "# Install relevant Libraries\n",
    "%cd /content/yolov5/\n",
    "!pip install -qr requirements.txt"
   ]
  },
  {
   "cell_type": "code",
   "execution_count": null,
   "metadata": {},
   "outputs": [],
   "source": [
    "import os\n",
    "from PIL import Image\n",
    "\n",
    "# 推論する画像を表示\n",
    "img_path = '/content/car.jpg'\n",
    "\n",
    "img = cv2.imread(img_path)\n",
    "display(img)"
   ]
  },
  {
   "attachments": {},
   "cell_type": "markdown",
   "metadata": {},
   "source": [
    "There are several types of models. Heavy models generally show better results. Here the model is small\n",
    "https://github.com/ultralytics/yolov5"
   ]
  },
  {
   "cell_type": "code",
   "execution_count": null,
   "metadata": {},
   "outputs": [],
   "source": [
    "# 推論の実行\n",
    "!python detect.py --source {img_path} --weights yolov5s.pt --conf 0.3 --name demo --exist-ok\n",
    "# The detected file is saved at /runs/detect/demo/\n",
    "\n",
    "cv2_imshow('/content/yolov5/runs/detect/demo/cars.jpg')"
   ]
  },
  {
   "attachments": {},
   "cell_type": "markdown",
   "metadata": {},
   "source": [
    "【演習 / Exercises】別の画像を用いて、分類してみましょう。Let's classify using another image"
   ]
  },
  {
   "cell_type": "code",
   "execution_count": null,
   "metadata": {},
   "outputs": [],
   "source": [
    "# Your code goes here"
   ]
  },
  {
   "attachments": {},
   "cell_type": "markdown",
   "metadata": {},
   "source": [
    "### Reference\n",
    "- https://github.com/ultralytics/yolov5"
   ]
  }
 ],
 "metadata": {
  "colab": {
   "collapsed_sections": [
    "22CLjnJUlgOs",
    "ykI3IfqQqKH_",
    "RLvMJGSStsNI",
    "ZsNhpd-Gt0Dw",
    "zPjPYhHfvDC6"
   ],
   "provenance": []
  },
  "kernelspec": {
   "display_name": "Python 3.8.1 64-bit ('3.8.1')",
   "language": "python",
   "name": "python3"
  },
  "language_info": {
   "codemirror_mode": {
    "name": "ipython",
    "version": 3
   },
   "file_extension": ".py",
   "mimetype": "text/x-python",
   "name": "python",
   "nbconvert_exporter": "python",
   "pygments_lexer": "ipython3",
   "version": "3.8.1"
  },
  "vscode": {
   "interpreter": {
    "hash": "b1e65045f1ae96e0640580b26940ed94a750a055d879b6076c56c078e11e4ff1"
   }
  }
 },
 "nbformat": 4,
 "nbformat_minor": 1
}
